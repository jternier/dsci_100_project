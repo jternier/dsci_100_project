{
 "cells": [
  {
   "cell_type": "markdown",
   "id": "b13f2000-d054-400c-9c90-a87f86486d6b",
   "metadata": {},
   "source": [
    "__Introduction__\r\n"
   ]
  },
  {
   "cell_type": "markdown",
   "id": "12a8120b-a9bd-44c6-857d-3d501d22b384",
   "metadata": {},
   "source": [
    "For our project we have decided to analyse the dataset titled \"Predict Student's Dropout and Academic Success\". The dataset is created from a higher education institution (acquired from several disjoint databases) related to students enrolled in different undergraduate degrees, such as agronomy, design, education, nursing, journalism, management, social service, and technologies. \n",
    "\n",
    "Furthermore, the dataset includes information known at the time of the student's enrollment (academic path, demographics, and social-economic factors) and the students' academic performance at the end of the first and second semesters. \n",
    "\n",
    "The research question we would like to answer is a classification one where we are able to predict whether a student continues to study or drops out of a higher education instituition based on a number of predictor variables. For this model we have chosen 4 predictor variables, namely: mother's and father's qualification level, previous qualification (grade) and application order. The predictor variable Target is a categorical variable that contains 3 categories: dropout, enrolled and graduate. The categories relevant to our analysis are dropout and graduate.\n",
    "\n",
    "For the columns' student's mother's and father's qualification, it is numbered from 1-44 that describe the level of education they have attained. For example, the number 2 represents that the parent has attained their bachelor's degree. __(have we decided to go for a threshold?)__ The column titled previous qualification (grade) is a continous column with numbers [0, 200] that represents the student's grade at their previous qualification (whether it be highschool or during their bachelor's degree). Finally, the column titled application order contains numbers from [0, 9] where 0 is the student's first choice of instituition and 9 representing their last.\n"
   ]
  },
  {
   "cell_type": "markdown",
   "id": "bbda9872-8a20-47c9-bdee-4f47069d93c0",
   "metadata": {},
   "source": [
    "__Tidying Data__"
   ]
  },
  {
   "cell_type": "code",
   "execution_count": 14,
   "id": "d49611e2-140a-4037-bd34-8a4342e2b0ba",
   "metadata": {},
   "outputs": [
    {
     "name": "stderr",
     "output_type": "stream",
     "text": [
      "── \u001b[1mAttaching packages\u001b[22m ────────────────────────────────────── tidymodels 1.1.1 ──\n",
      "\n",
      "\u001b[32m✔\u001b[39m \u001b[34mbroom       \u001b[39m 1.0.5     \u001b[32m✔\u001b[39m \u001b[34mrsample     \u001b[39m 1.2.0\n",
      "\u001b[32m✔\u001b[39m \u001b[34mdials       \u001b[39m 1.2.0     \u001b[32m✔\u001b[39m \u001b[34mtune        \u001b[39m 1.1.2\n",
      "\u001b[32m✔\u001b[39m \u001b[34minfer       \u001b[39m 1.0.5     \u001b[32m✔\u001b[39m \u001b[34mworkflows   \u001b[39m 1.1.3\n",
      "\u001b[32m✔\u001b[39m \u001b[34mmodeldata   \u001b[39m 1.2.0     \u001b[32m✔\u001b[39m \u001b[34mworkflowsets\u001b[39m 1.0.1\n",
      "\u001b[32m✔\u001b[39m \u001b[34mparsnip     \u001b[39m 1.1.1     \u001b[32m✔\u001b[39m \u001b[34myardstick   \u001b[39m 1.2.0\n",
      "\u001b[32m✔\u001b[39m \u001b[34mrecipes     \u001b[39m 1.0.8     \n",
      "\n",
      "── \u001b[1mConflicts\u001b[22m ───────────────────────────────────────── tidymodels_conflicts() ──\n",
      "\u001b[31m✖\u001b[39m \u001b[34mscales\u001b[39m::\u001b[32mdiscard()\u001b[39m masks \u001b[34mpurrr\u001b[39m::discard()\n",
      "\u001b[31m✖\u001b[39m \u001b[34mdplyr\u001b[39m::\u001b[32mfilter()\u001b[39m   masks \u001b[34mstats\u001b[39m::filter()\n",
      "\u001b[31m✖\u001b[39m \u001b[34mrecipes\u001b[39m::\u001b[32mfixed()\u001b[39m  masks \u001b[34mstringr\u001b[39m::fixed()\n",
      "\u001b[31m✖\u001b[39m \u001b[34mdplyr\u001b[39m::\u001b[32mlag()\u001b[39m      masks \u001b[34mstats\u001b[39m::lag()\n",
      "\u001b[31m✖\u001b[39m \u001b[34myardstick\u001b[39m::\u001b[32mspec()\u001b[39m masks \u001b[34mreadr\u001b[39m::spec()\n",
      "\u001b[31m✖\u001b[39m \u001b[34mrecipes\u001b[39m::\u001b[32mstep()\u001b[39m   masks \u001b[34mstats\u001b[39m::step()\n",
      "\u001b[34m•\u001b[39m Learn how to get started at \u001b[32mhttps://www.tidymodels.org/start/\u001b[39m\n",
      "\n",
      "Warning message in file(filename, \"r\", encoding = encoding):\n",
      "“cannot open file 'tests.R': No such file or directory”\n"
     ]
    },
    {
     "ename": "ERROR",
     "evalue": "Error in file(filename, \"r\", encoding = encoding): cannot open the connection\n",
     "output_type": "error",
     "traceback": [
      "Error in file(filename, \"r\", encoding = encoding): cannot open the connection\nTraceback:\n",
      "1. source(\"tests.R\")",
      "2. file(filename, \"r\", encoding = encoding)"
     ]
    }
   ],
   "source": [
    "library(tidyverse)\n",
    "library(repr)\n",
    "library(tidymodels)\n",
    "options(repr.matrix.max.rows = 6)\n",
    "source(\"tests.R\")\n",
    "source('cleanup.R')"
   ]
  },
  {
   "cell_type": "code",
   "execution_count": 32,
   "id": "9a01a897-7d65-4713-99e8-286eeb750880",
   "metadata": {
    "scrolled": true
   },
   "outputs": [
    {
     "name": "stderr",
     "output_type": "stream",
     "text": [
      "\u001b[1mRows: \u001b[22m\u001b[34m4424\u001b[39m \u001b[1mColumns: \u001b[22m\u001b[34m37\u001b[39m\n",
      "\u001b[36m──\u001b[39m \u001b[1mColumn specification\u001b[22m \u001b[36m────────────────────────────────────────────────────────\u001b[39m\n",
      "\u001b[1mDelimiter:\u001b[22m \";\"\n",
      "\u001b[31mchr\u001b[39m  (1): Target\n",
      "\u001b[32mdbl\u001b[39m (36): Marital_status, Application_mode, Application_order, Course, Dayti...\n",
      "\n",
      "\u001b[36mℹ\u001b[39m Use `spec()` to retrieve the full column specification for this data.\n",
      "\u001b[36mℹ\u001b[39m Specify the column types or set `show_col_types = FALSE` to quiet this message.\n"
     ]
    },
    {
     "data": {
      "text/html": [
       "<table class=\"dataframe\">\n",
       "<caption>A tibble: 6 × 37</caption>\n",
       "<thead>\n",
       "\t<tr><th scope=col>Marital_status</th><th scope=col>Application_mode</th><th scope=col>Application_order</th><th scope=col>Course</th><th scope=col>Daytime/evening attendance</th><th scope=col>Previous_qualification</th><th scope=col>Previous_qualification_grade</th><th scope=col>Nacionality</th><th scope=col>Mother_qualification</th><th scope=col>Father_qualification</th><th scope=col>⋯</th><th scope=col>Curricular_units_2nd_sem_(credited)</th><th scope=col>Curricular_units_2nd_sem_(enrolled)</th><th scope=col>Curricular_units_2nd_sem_(evaluations)</th><th scope=col>Curricular_units_2nd_sem_(approved)</th><th scope=col>Curricular_units_2nd_sem_(grade)</th><th scope=col>Curricular_units_2nd_sem_(without evaluations)</th><th scope=col>Unemployment_rate</th><th scope=col>Inflation_rate</th><th scope=col>GDP</th><th scope=col>Target</th></tr>\n",
       "\t<tr><th scope=col>&lt;dbl&gt;</th><th scope=col>&lt;dbl&gt;</th><th scope=col>&lt;dbl&gt;</th><th scope=col>&lt;dbl&gt;</th><th scope=col>&lt;dbl&gt;</th><th scope=col>&lt;dbl&gt;</th><th scope=col>&lt;dbl&gt;</th><th scope=col>&lt;dbl&gt;</th><th scope=col>&lt;dbl&gt;</th><th scope=col>&lt;dbl&gt;</th><th scope=col>⋯</th><th scope=col>&lt;dbl&gt;</th><th scope=col>&lt;dbl&gt;</th><th scope=col>&lt;dbl&gt;</th><th scope=col>&lt;dbl&gt;</th><th scope=col>&lt;dbl&gt;</th><th scope=col>&lt;dbl&gt;</th><th scope=col>&lt;dbl&gt;</th><th scope=col>&lt;dbl&gt;</th><th scope=col>&lt;dbl&gt;</th><th scope=col>&lt;chr&gt;</th></tr>\n",
       "</thead>\n",
       "<tbody>\n",
       "\t<tr><td>1</td><td>17</td><td>5</td><td> 171</td><td>1</td><td> 1</td><td>122.0</td><td>1</td><td>19</td><td>12</td><td>⋯</td><td>0</td><td>0</td><td> 0</td><td>0</td><td> 0.00000</td><td>0</td><td>10.8</td><td> 1.4</td><td> 1.74</td><td>Dropout </td></tr>\n",
       "\t<tr><td>1</td><td>15</td><td>1</td><td>9254</td><td>1</td><td> 1</td><td>160.0</td><td>1</td><td> 1</td><td> 3</td><td>⋯</td><td>0</td><td>6</td><td> 6</td><td>6</td><td>13.66667</td><td>0</td><td>13.9</td><td>-0.3</td><td> 0.79</td><td>Graduate</td></tr>\n",
       "\t<tr><td>1</td><td> 1</td><td>5</td><td>9070</td><td>1</td><td> 1</td><td>122.0</td><td>1</td><td>37</td><td>37</td><td>⋯</td><td>0</td><td>6</td><td> 0</td><td>0</td><td> 0.00000</td><td>0</td><td>10.8</td><td> 1.4</td><td> 1.74</td><td>Dropout </td></tr>\n",
       "\t<tr><td>1</td><td>17</td><td>2</td><td>9773</td><td>1</td><td> 1</td><td>122.0</td><td>1</td><td>38</td><td>37</td><td>⋯</td><td>0</td><td>6</td><td>10</td><td>5</td><td>12.40000</td><td>0</td><td> 9.4</td><td>-0.8</td><td>-3.12</td><td>Graduate</td></tr>\n",
       "\t<tr><td>2</td><td>39</td><td>1</td><td>8014</td><td>0</td><td> 1</td><td>100.0</td><td>1</td><td>37</td><td>38</td><td>⋯</td><td>0</td><td>6</td><td> 6</td><td>6</td><td>13.00000</td><td>0</td><td>13.9</td><td>-0.3</td><td> 0.79</td><td>Graduate</td></tr>\n",
       "\t<tr><td>2</td><td>39</td><td>1</td><td>9991</td><td>0</td><td>19</td><td>133.1</td><td>1</td><td>37</td><td>37</td><td>⋯</td><td>0</td><td>5</td><td>17</td><td>5</td><td>11.50000</td><td>5</td><td>16.2</td><td> 0.3</td><td>-0.92</td><td>Graduate</td></tr>\n",
       "</tbody>\n",
       "</table>\n"
      ],
      "text/latex": [
       "A tibble: 6 × 37\n",
       "\\begin{tabular}{lllllllllllllllllllll}\n",
       " Marital\\_status & Application\\_mode & Application\\_order & Course & Daytime/evening attendance & Previous\\_qualification & Previous\\_qualification\\_grade & Nacionality & Mother\\_qualification & Father\\_qualification & ⋯ & Curricular\\_units\\_2nd\\_sem\\_(credited) & Curricular\\_units\\_2nd\\_sem\\_(enrolled) & Curricular\\_units\\_2nd\\_sem\\_(evaluations) & Curricular\\_units\\_2nd\\_sem\\_(approved) & Curricular\\_units\\_2nd\\_sem\\_(grade) & Curricular\\_units\\_2nd\\_sem\\_(without evaluations) & Unemployment\\_rate & Inflation\\_rate & GDP & Target\\\\\n",
       " <dbl> & <dbl> & <dbl> & <dbl> & <dbl> & <dbl> & <dbl> & <dbl> & <dbl> & <dbl> & ⋯ & <dbl> & <dbl> & <dbl> & <dbl> & <dbl> & <dbl> & <dbl> & <dbl> & <dbl> & <chr>\\\\\n",
       "\\hline\n",
       "\t 1 & 17 & 5 &  171 & 1 &  1 & 122.0 & 1 & 19 & 12 & ⋯ & 0 & 0 &  0 & 0 &  0.00000 & 0 & 10.8 &  1.4 &  1.74 & Dropout \\\\\n",
       "\t 1 & 15 & 1 & 9254 & 1 &  1 & 160.0 & 1 &  1 &  3 & ⋯ & 0 & 6 &  6 & 6 & 13.66667 & 0 & 13.9 & -0.3 &  0.79 & Graduate\\\\\n",
       "\t 1 &  1 & 5 & 9070 & 1 &  1 & 122.0 & 1 & 37 & 37 & ⋯ & 0 & 6 &  0 & 0 &  0.00000 & 0 & 10.8 &  1.4 &  1.74 & Dropout \\\\\n",
       "\t 1 & 17 & 2 & 9773 & 1 &  1 & 122.0 & 1 & 38 & 37 & ⋯ & 0 & 6 & 10 & 5 & 12.40000 & 0 &  9.4 & -0.8 & -3.12 & Graduate\\\\\n",
       "\t 2 & 39 & 1 & 8014 & 0 &  1 & 100.0 & 1 & 37 & 38 & ⋯ & 0 & 6 &  6 & 6 & 13.00000 & 0 & 13.9 & -0.3 &  0.79 & Graduate\\\\\n",
       "\t 2 & 39 & 1 & 9991 & 0 & 19 & 133.1 & 1 & 37 & 37 & ⋯ & 0 & 5 & 17 & 5 & 11.50000 & 5 & 16.2 &  0.3 & -0.92 & Graduate\\\\\n",
       "\\end{tabular}\n"
      ],
      "text/markdown": [
       "\n",
       "A tibble: 6 × 37\n",
       "\n",
       "| Marital_status &lt;dbl&gt; | Application_mode &lt;dbl&gt; | Application_order &lt;dbl&gt; | Course &lt;dbl&gt; | Daytime/evening attendance &lt;dbl&gt; | Previous_qualification &lt;dbl&gt; | Previous_qualification_grade &lt;dbl&gt; | Nacionality &lt;dbl&gt; | Mother_qualification &lt;dbl&gt; | Father_qualification &lt;dbl&gt; | ⋯ ⋯ | Curricular_units_2nd_sem_(credited) &lt;dbl&gt; | Curricular_units_2nd_sem_(enrolled) &lt;dbl&gt; | Curricular_units_2nd_sem_(evaluations) &lt;dbl&gt; | Curricular_units_2nd_sem_(approved) &lt;dbl&gt; | Curricular_units_2nd_sem_(grade) &lt;dbl&gt; | Curricular_units_2nd_sem_(without evaluations) &lt;dbl&gt; | Unemployment_rate &lt;dbl&gt; | Inflation_rate &lt;dbl&gt; | GDP &lt;dbl&gt; | Target &lt;chr&gt; |\n",
       "|---|---|---|---|---|---|---|---|---|---|---|---|---|---|---|---|---|---|---|---|---|\n",
       "| 1 | 17 | 5 |  171 | 1 |  1 | 122.0 | 1 | 19 | 12 | ⋯ | 0 | 0 |  0 | 0 |  0.00000 | 0 | 10.8 |  1.4 |  1.74 | Dropout  |\n",
       "| 1 | 15 | 1 | 9254 | 1 |  1 | 160.0 | 1 |  1 |  3 | ⋯ | 0 | 6 |  6 | 6 | 13.66667 | 0 | 13.9 | -0.3 |  0.79 | Graduate |\n",
       "| 1 |  1 | 5 | 9070 | 1 |  1 | 122.0 | 1 | 37 | 37 | ⋯ | 0 | 6 |  0 | 0 |  0.00000 | 0 | 10.8 |  1.4 |  1.74 | Dropout  |\n",
       "| 1 | 17 | 2 | 9773 | 1 |  1 | 122.0 | 1 | 38 | 37 | ⋯ | 0 | 6 | 10 | 5 | 12.40000 | 0 |  9.4 | -0.8 | -3.12 | Graduate |\n",
       "| 2 | 39 | 1 | 8014 | 0 |  1 | 100.0 | 1 | 37 | 38 | ⋯ | 0 | 6 |  6 | 6 | 13.00000 | 0 | 13.9 | -0.3 |  0.79 | Graduate |\n",
       "| 2 | 39 | 1 | 9991 | 0 | 19 | 133.1 | 1 | 37 | 37 | ⋯ | 0 | 5 | 17 | 5 | 11.50000 | 5 | 16.2 |  0.3 | -0.92 | Graduate |\n",
       "\n"
      ],
      "text/plain": [
       "  Marital_status Application_mode Application_order Course\n",
       "1 1              17               5                  171  \n",
       "2 1              15               1                 9254  \n",
       "3 1               1               5                 9070  \n",
       "4 1              17               2                 9773  \n",
       "5 2              39               1                 8014  \n",
       "6 2              39               1                 9991  \n",
       "  Daytime/evening attendance Previous_qualification\n",
       "1 1                           1                    \n",
       "2 1                           1                    \n",
       "3 1                           1                    \n",
       "4 1                           1                    \n",
       "5 0                           1                    \n",
       "6 0                          19                    \n",
       "  Previous_qualification_grade Nacionality Mother_qualification\n",
       "1 122.0                        1           19                  \n",
       "2 160.0                        1            1                  \n",
       "3 122.0                        1           37                  \n",
       "4 122.0                        1           38                  \n",
       "5 100.0                        1           37                  \n",
       "6 133.1                        1           37                  \n",
       "  Father_qualification ⋯ Curricular_units_2nd_sem_(credited)\n",
       "1 12                   ⋯ 0                                  \n",
       "2  3                   ⋯ 0                                  \n",
       "3 37                   ⋯ 0                                  \n",
       "4 37                   ⋯ 0                                  \n",
       "5 38                   ⋯ 0                                  \n",
       "6 37                   ⋯ 0                                  \n",
       "  Curricular_units_2nd_sem_(enrolled) Curricular_units_2nd_sem_(evaluations)\n",
       "1 0                                    0                                    \n",
       "2 6                                    6                                    \n",
       "3 6                                    0                                    \n",
       "4 6                                   10                                    \n",
       "5 6                                    6                                    \n",
       "6 5                                   17                                    \n",
       "  Curricular_units_2nd_sem_(approved) Curricular_units_2nd_sem_(grade)\n",
       "1 0                                    0.00000                        \n",
       "2 6                                   13.66667                        \n",
       "3 0                                    0.00000                        \n",
       "4 5                                   12.40000                        \n",
       "5 6                                   13.00000                        \n",
       "6 5                                   11.50000                        \n",
       "  Curricular_units_2nd_sem_(without evaluations) Unemployment_rate\n",
       "1 0                                              10.8             \n",
       "2 0                                              13.9             \n",
       "3 0                                              10.8             \n",
       "4 0                                               9.4             \n",
       "5 0                                              13.9             \n",
       "6 5                                              16.2             \n",
       "  Inflation_rate GDP   Target  \n",
       "1  1.4            1.74 Dropout \n",
       "2 -0.3            0.79 Graduate\n",
       "3  1.4            1.74 Dropout \n",
       "4 -0.8           -3.12 Graduate\n",
       "5 -0.3            0.79 Graduate\n",
       "6  0.3           -0.92 Graduate"
      ]
     },
     "metadata": {},
     "output_type": "display_data"
    }
   ],
   "source": [
    "data <- read_delim(file = \"data/data.csv\", delim = \";\") #Load the data into R. File is semi-colon separated so use read_delim function\n",
    "head(data)"
   ]
  },
  {
   "cell_type": "markdown",
   "id": "aa85de69-ed52-4412-b45e-f06c45b365e5",
   "metadata": {},
   "source": [
    "To tidy the data set, we have decided to implement the following steps:\\\n",
    "step 1: select only the 5 columns (predictor variable + predictor class) relevant to us\\\n",
    "step 2: filter the predictor class Target to have only two categories \"Graduate and Dropout\"\\\n",
    "step 3: "
   ]
  },
  {
   "cell_type": "code",
   "execution_count": 30,
   "id": "26641e0d-9c13-44d5-8228-92ccfa6c5617",
   "metadata": {},
   "outputs": [
    {
     "data": {
      "text/html": [
       "<table class=\"dataframe\">\n",
       "<caption>A tibble: 6 × 6</caption>\n",
       "<thead>\n",
       "\t<tr><th scope=col>Previous_qualification</th><th scope=col>Previous_qualification_grade</th><th scope=col>Mother_qualification</th><th scope=col>Father_qualification</th><th scope=col>Application_order</th><th scope=col>Target</th></tr>\n",
       "\t<tr><th scope=col>&lt;dbl&gt;</th><th scope=col>&lt;dbl&gt;</th><th scope=col>&lt;dbl&gt;</th><th scope=col>&lt;dbl&gt;</th><th scope=col>&lt;dbl&gt;</th><th scope=col>&lt;fct&gt;</th></tr>\n",
       "</thead>\n",
       "<tbody>\n",
       "\t<tr><td>1</td><td>122</td><td>19</td><td>12</td><td>5</td><td>Dropout </td></tr>\n",
       "\t<tr><td>1</td><td>160</td><td> 1</td><td> 3</td><td>1</td><td>Graduate</td></tr>\n",
       "\t<tr><td>1</td><td>122</td><td>37</td><td>37</td><td>5</td><td>Dropout </td></tr>\n",
       "\t<tr><td>1</td><td>122</td><td>38</td><td>37</td><td>2</td><td>Graduate</td></tr>\n",
       "\t<tr><td>1</td><td>100</td><td>37</td><td>38</td><td>1</td><td>Graduate</td></tr>\n",
       "\t<tr><td>1</td><td>142</td><td>19</td><td>38</td><td>1</td><td>Graduate</td></tr>\n",
       "</tbody>\n",
       "</table>\n"
      ],
      "text/latex": [
       "A tibble: 6 × 6\n",
       "\\begin{tabular}{llllll}\n",
       " Previous\\_qualification & Previous\\_qualification\\_grade & Mother\\_qualification & Father\\_qualification & Application\\_order & Target\\\\\n",
       " <dbl> & <dbl> & <dbl> & <dbl> & <dbl> & <fct>\\\\\n",
       "\\hline\n",
       "\t 1 & 122 & 19 & 12 & 5 & Dropout \\\\\n",
       "\t 1 & 160 &  1 &  3 & 1 & Graduate\\\\\n",
       "\t 1 & 122 & 37 & 37 & 5 & Dropout \\\\\n",
       "\t 1 & 122 & 38 & 37 & 2 & Graduate\\\\\n",
       "\t 1 & 100 & 37 & 38 & 1 & Graduate\\\\\n",
       "\t 1 & 142 & 19 & 38 & 1 & Graduate\\\\\n",
       "\\end{tabular}\n"
      ],
      "text/markdown": [
       "\n",
       "A tibble: 6 × 6\n",
       "\n",
       "| Previous_qualification &lt;dbl&gt; | Previous_qualification_grade &lt;dbl&gt; | Mother_qualification &lt;dbl&gt; | Father_qualification &lt;dbl&gt; | Application_order &lt;dbl&gt; | Target &lt;fct&gt; |\n",
       "|---|---|---|---|---|---|\n",
       "| 1 | 122 | 19 | 12 | 5 | Dropout  |\n",
       "| 1 | 160 |  1 |  3 | 1 | Graduate |\n",
       "| 1 | 122 | 37 | 37 | 5 | Dropout  |\n",
       "| 1 | 122 | 38 | 37 | 2 | Graduate |\n",
       "| 1 | 100 | 37 | 38 | 1 | Graduate |\n",
       "| 1 | 142 | 19 | 38 | 1 | Graduate |\n",
       "\n"
      ],
      "text/plain": [
       "  Previous_qualification Previous_qualification_grade Mother_qualification\n",
       "1 1                      122                          19                  \n",
       "2 1                      160                           1                  \n",
       "3 1                      122                          37                  \n",
       "4 1                      122                          38                  \n",
       "5 1                      100                          37                  \n",
       "6 1                      142                          19                  \n",
       "  Father_qualification Application_order Target  \n",
       "1 12                   5                 Dropout \n",
       "2  3                   1                 Graduate\n",
       "3 37                   5                 Dropout \n",
       "4 37                   2                 Graduate\n",
       "5 38                   1                 Graduate\n",
       "6 38                   1                 Graduate"
      ]
     },
     "metadata": {},
     "output_type": "display_data"
    },
    {
     "data": {
      "text/html": [
       "3019"
      ],
      "text/latex": [
       "3019"
      ],
      "text/markdown": [
       "3019"
      ],
      "text/plain": [
       "[1] 3019"
      ]
     },
     "metadata": {},
     "output_type": "display_data"
    }
   ],
   "source": [
    "tidy_data <- data|>\n",
    "select(Previous_qualification, Previous_qualification_grade, Mother_qualification, Father_qualification, Application_order, Target) |> # select our columns of interest\n",
    "filter(Previous_qualification == 1) |> #We only want to examine observations whose previous education is completed secondary education\n",
    "filter(Target == \"Graduate\" | Target == \"Dropout\") |> #We only want to examine the binary of dropout vs graduate (not students currently enrolled)\n",
    "mutate(Target = as_factor(Target)) #We want our classification variable to be a factor as there's a limited amount of categories\n",
    "head(tidy_data)\n",
    "nrow(tidy_data) #Check we still have a sufficient amount of observations that meet our criteria"
   ]
  },
  {
   "cell_type": "markdown",
   "id": "dc105c78-f28f-4bec-b5c9-aaa091afa887",
   "metadata": {},
   "source": [
    "## Create a Training Data Set"
   ]
  },
  {
   "cell_type": "code",
   "execution_count": 34,
   "id": "ab1e6d3e-7475-443c-a1b9-107d2c7f012c",
   "metadata": {},
   "outputs": [],
   "source": [
    "data_split <- initial_split(tidy_data, prop = 0.75, strata = Target) #Split the data into training and testing. 75% for training and 25% for testing. Because we are classifying target, use that as strata.\n",
    "dropout_training <- training(data_split) #name training and testing data sets\n",
    "dropout_testing <- testing(data_split)"
   ]
  },
  {
   "cell_type": "code",
   "execution_count": null,
   "id": "ccfdf1a2-8496-419a-b893-f4d3991d7cf3",
   "metadata": {},
   "outputs": [],
   "source": []
  }
 ],
 "metadata": {
  "kernelspec": {
   "display_name": "R",
   "language": "R",
   "name": "ir"
  },
  "language_info": {
   "codemirror_mode": "r",
   "file_extension": ".r",
   "mimetype": "text/x-r-source",
   "name": "R",
   "pygments_lexer": "r",
   "version": "4.3.1"
  }
 },
 "nbformat": 4,
 "nbformat_minor": 5
}
