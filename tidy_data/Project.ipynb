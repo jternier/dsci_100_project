{
 "cells": [
  {
   "cell_type": "code",
   "execution_count": 7,
   "id": "9bb3268a-ec03-4c11-879c-4cddea6d662b",
   "metadata": {},
   "outputs": [
    {
     "ename": "ERROR",
     "evalue": "Error in library(themis): there is no package called ‘themis’\n",
     "output_type": "error",
     "traceback": [
      "Error in library(themis): there is no package called ‘themis’\nTraceback:\n",
      "1. library(themis)"
     ]
    }
   ],
   "source": [
    "#Run this cell to attach libraries\n",
    "library(tidyverse)\n",
    "library(repr)\n",
    "library(tidymodels)\n",
    "options(repr.matrix.max.rows = 6)\n",
    "library(RColorBrewer)\n",
    "library(themis)"
   ]
  },
  {
   "cell_type": "code",
   "execution_count": 2,
   "id": "b69edda8-237c-40d8-a1f0-f77a8e765851",
   "metadata": {},
   "outputs": [
    {
     "name": "stderr",
     "output_type": "stream",
     "text": [
      "also installing the dependencies ‘RANN’, ‘ROSE’\n",
      "\n",
      "\n",
      "Warning message in install.packages(\"themis\"):\n",
      "“installation of package ‘RANN’ had non-zero exit status”\n",
      "Warning message in install.packages(\"themis\"):\n",
      "“installation of package ‘themis’ had non-zero exit status”\n",
      "Updating HTML index of packages in '.Library'\n",
      "\n",
      "Making 'packages.html' ...\n",
      " done\n",
      "\n"
     ]
    }
   ],
   "source": [
    "install.packages(\"themis\")"
   ]
  },
  {
   "cell_type": "code",
   "execution_count": 2,
   "id": "006c95f9-416f-4ffa-9a78-49443292cdee",
   "metadata": {},
   "outputs": [
    {
     "name": "stderr",
     "output_type": "stream",
     "text": [
      "\u001b[1mRows: \u001b[22m\u001b[34m4424\u001b[39m \u001b[1mColumns: \u001b[22m\u001b[34m37\u001b[39m\n",
      "\u001b[36m──\u001b[39m \u001b[1mColumn specification\u001b[22m \u001b[36m────────────────────────────────────────────────────────\u001b[39m\n",
      "\u001b[1mDelimiter:\u001b[22m \";\"\n",
      "\u001b[31mchr\u001b[39m  (1): Target\n",
      "\u001b[32mdbl\u001b[39m (36): Marital_status, Application_mode, Application_order, Course, Dayti...\n",
      "\n",
      "\u001b[36mℹ\u001b[39m Use `spec()` to retrieve the full column specification for this data.\n",
      "\u001b[36mℹ\u001b[39m Specify the column types or set `show_col_types = FALSE` to quiet this message.\n"
     ]
    },
    {
     "data": {
      "text/html": [
       "<table class=\"dataframe\">\n",
       "<caption>A tibble: 6 × 37</caption>\n",
       "<thead>\n",
       "\t<tr><th scope=col>Marital_status</th><th scope=col>Application_mode</th><th scope=col>Application_order</th><th scope=col>Course</th><th scope=col>Daytime/evening attendance</th><th scope=col>Previous_qualification</th><th scope=col>Previous_qualification_grade</th><th scope=col>Nacionality</th><th scope=col>Mother_qualification</th><th scope=col>Father_qualification</th><th scope=col>⋯</th><th scope=col>Curricular_units_2nd_sem_(credited)</th><th scope=col>Curricular_units_2nd_sem_(enrolled)</th><th scope=col>Curricular_units_2nd_sem_(evaluations)</th><th scope=col>Curricular_units_2nd_sem_(approved)</th><th scope=col>Curricular_units_2nd_sem_(grade)</th><th scope=col>Curricular_units_2nd_sem_(without evaluations)</th><th scope=col>Unemployment_rate</th><th scope=col>Inflation_rate</th><th scope=col>GDP</th><th scope=col>Target</th></tr>\n",
       "\t<tr><th scope=col>&lt;dbl&gt;</th><th scope=col>&lt;dbl&gt;</th><th scope=col>&lt;dbl&gt;</th><th scope=col>&lt;dbl&gt;</th><th scope=col>&lt;dbl&gt;</th><th scope=col>&lt;dbl&gt;</th><th scope=col>&lt;dbl&gt;</th><th scope=col>&lt;dbl&gt;</th><th scope=col>&lt;dbl&gt;</th><th scope=col>&lt;dbl&gt;</th><th scope=col>⋯</th><th scope=col>&lt;dbl&gt;</th><th scope=col>&lt;dbl&gt;</th><th scope=col>&lt;dbl&gt;</th><th scope=col>&lt;dbl&gt;</th><th scope=col>&lt;dbl&gt;</th><th scope=col>&lt;dbl&gt;</th><th scope=col>&lt;dbl&gt;</th><th scope=col>&lt;dbl&gt;</th><th scope=col>&lt;dbl&gt;</th><th scope=col>&lt;chr&gt;</th></tr>\n",
       "</thead>\n",
       "<tbody>\n",
       "\t<tr><td>1</td><td>17</td><td>5</td><td> 171</td><td>1</td><td> 1</td><td>122.0</td><td>1</td><td>19</td><td>12</td><td>⋯</td><td>0</td><td>0</td><td> 0</td><td>0</td><td> 0.00000</td><td>0</td><td>10.8</td><td> 1.4</td><td> 1.74</td><td>Dropout </td></tr>\n",
       "\t<tr><td>1</td><td>15</td><td>1</td><td>9254</td><td>1</td><td> 1</td><td>160.0</td><td>1</td><td> 1</td><td> 3</td><td>⋯</td><td>0</td><td>6</td><td> 6</td><td>6</td><td>13.66667</td><td>0</td><td>13.9</td><td>-0.3</td><td> 0.79</td><td>Graduate</td></tr>\n",
       "\t<tr><td>1</td><td> 1</td><td>5</td><td>9070</td><td>1</td><td> 1</td><td>122.0</td><td>1</td><td>37</td><td>37</td><td>⋯</td><td>0</td><td>6</td><td> 0</td><td>0</td><td> 0.00000</td><td>0</td><td>10.8</td><td> 1.4</td><td> 1.74</td><td>Dropout </td></tr>\n",
       "\t<tr><td>1</td><td>17</td><td>2</td><td>9773</td><td>1</td><td> 1</td><td>122.0</td><td>1</td><td>38</td><td>37</td><td>⋯</td><td>0</td><td>6</td><td>10</td><td>5</td><td>12.40000</td><td>0</td><td> 9.4</td><td>-0.8</td><td>-3.12</td><td>Graduate</td></tr>\n",
       "\t<tr><td>2</td><td>39</td><td>1</td><td>8014</td><td>0</td><td> 1</td><td>100.0</td><td>1</td><td>37</td><td>38</td><td>⋯</td><td>0</td><td>6</td><td> 6</td><td>6</td><td>13.00000</td><td>0</td><td>13.9</td><td>-0.3</td><td> 0.79</td><td>Graduate</td></tr>\n",
       "\t<tr><td>2</td><td>39</td><td>1</td><td>9991</td><td>0</td><td>19</td><td>133.1</td><td>1</td><td>37</td><td>37</td><td>⋯</td><td>0</td><td>5</td><td>17</td><td>5</td><td>11.50000</td><td>5</td><td>16.2</td><td> 0.3</td><td>-0.92</td><td>Graduate</td></tr>\n",
       "</tbody>\n",
       "</table>\n"
      ],
      "text/latex": [
       "A tibble: 6 × 37\n",
       "\\begin{tabular}{lllllllllllllllllllll}\n",
       " Marital\\_status & Application\\_mode & Application\\_order & Course & Daytime/evening attendance & Previous\\_qualification & Previous\\_qualification\\_grade & Nacionality & Mother\\_qualification & Father\\_qualification & ⋯ & Curricular\\_units\\_2nd\\_sem\\_(credited) & Curricular\\_units\\_2nd\\_sem\\_(enrolled) & Curricular\\_units\\_2nd\\_sem\\_(evaluations) & Curricular\\_units\\_2nd\\_sem\\_(approved) & Curricular\\_units\\_2nd\\_sem\\_(grade) & Curricular\\_units\\_2nd\\_sem\\_(without evaluations) & Unemployment\\_rate & Inflation\\_rate & GDP & Target\\\\\n",
       " <dbl> & <dbl> & <dbl> & <dbl> & <dbl> & <dbl> & <dbl> & <dbl> & <dbl> & <dbl> & ⋯ & <dbl> & <dbl> & <dbl> & <dbl> & <dbl> & <dbl> & <dbl> & <dbl> & <dbl> & <chr>\\\\\n",
       "\\hline\n",
       "\t 1 & 17 & 5 &  171 & 1 &  1 & 122.0 & 1 & 19 & 12 & ⋯ & 0 & 0 &  0 & 0 &  0.00000 & 0 & 10.8 &  1.4 &  1.74 & Dropout \\\\\n",
       "\t 1 & 15 & 1 & 9254 & 1 &  1 & 160.0 & 1 &  1 &  3 & ⋯ & 0 & 6 &  6 & 6 & 13.66667 & 0 & 13.9 & -0.3 &  0.79 & Graduate\\\\\n",
       "\t 1 &  1 & 5 & 9070 & 1 &  1 & 122.0 & 1 & 37 & 37 & ⋯ & 0 & 6 &  0 & 0 &  0.00000 & 0 & 10.8 &  1.4 &  1.74 & Dropout \\\\\n",
       "\t 1 & 17 & 2 & 9773 & 1 &  1 & 122.0 & 1 & 38 & 37 & ⋯ & 0 & 6 & 10 & 5 & 12.40000 & 0 &  9.4 & -0.8 & -3.12 & Graduate\\\\\n",
       "\t 2 & 39 & 1 & 8014 & 0 &  1 & 100.0 & 1 & 37 & 38 & ⋯ & 0 & 6 &  6 & 6 & 13.00000 & 0 & 13.9 & -0.3 &  0.79 & Graduate\\\\\n",
       "\t 2 & 39 & 1 & 9991 & 0 & 19 & 133.1 & 1 & 37 & 37 & ⋯ & 0 & 5 & 17 & 5 & 11.50000 & 5 & 16.2 &  0.3 & -0.92 & Graduate\\\\\n",
       "\\end{tabular}\n"
      ],
      "text/markdown": [
       "\n",
       "A tibble: 6 × 37\n",
       "\n",
       "| Marital_status &lt;dbl&gt; | Application_mode &lt;dbl&gt; | Application_order &lt;dbl&gt; | Course &lt;dbl&gt; | Daytime/evening attendance &lt;dbl&gt; | Previous_qualification &lt;dbl&gt; | Previous_qualification_grade &lt;dbl&gt; | Nacionality &lt;dbl&gt; | Mother_qualification &lt;dbl&gt; | Father_qualification &lt;dbl&gt; | ⋯ ⋯ | Curricular_units_2nd_sem_(credited) &lt;dbl&gt; | Curricular_units_2nd_sem_(enrolled) &lt;dbl&gt; | Curricular_units_2nd_sem_(evaluations) &lt;dbl&gt; | Curricular_units_2nd_sem_(approved) &lt;dbl&gt; | Curricular_units_2nd_sem_(grade) &lt;dbl&gt; | Curricular_units_2nd_sem_(without evaluations) &lt;dbl&gt; | Unemployment_rate &lt;dbl&gt; | Inflation_rate &lt;dbl&gt; | GDP &lt;dbl&gt; | Target &lt;chr&gt; |\n",
       "|---|---|---|---|---|---|---|---|---|---|---|---|---|---|---|---|---|---|---|---|---|\n",
       "| 1 | 17 | 5 |  171 | 1 |  1 | 122.0 | 1 | 19 | 12 | ⋯ | 0 | 0 |  0 | 0 |  0.00000 | 0 | 10.8 |  1.4 |  1.74 | Dropout  |\n",
       "| 1 | 15 | 1 | 9254 | 1 |  1 | 160.0 | 1 |  1 |  3 | ⋯ | 0 | 6 |  6 | 6 | 13.66667 | 0 | 13.9 | -0.3 |  0.79 | Graduate |\n",
       "| 1 |  1 | 5 | 9070 | 1 |  1 | 122.0 | 1 | 37 | 37 | ⋯ | 0 | 6 |  0 | 0 |  0.00000 | 0 | 10.8 |  1.4 |  1.74 | Dropout  |\n",
       "| 1 | 17 | 2 | 9773 | 1 |  1 | 122.0 | 1 | 38 | 37 | ⋯ | 0 | 6 | 10 | 5 | 12.40000 | 0 |  9.4 | -0.8 | -3.12 | Graduate |\n",
       "| 2 | 39 | 1 | 8014 | 0 |  1 | 100.0 | 1 | 37 | 38 | ⋯ | 0 | 6 |  6 | 6 | 13.00000 | 0 | 13.9 | -0.3 |  0.79 | Graduate |\n",
       "| 2 | 39 | 1 | 9991 | 0 | 19 | 133.1 | 1 | 37 | 37 | ⋯ | 0 | 5 | 17 | 5 | 11.50000 | 5 | 16.2 |  0.3 | -0.92 | Graduate |\n",
       "\n"
      ],
      "text/plain": [
       "  Marital_status Application_mode Application_order Course\n",
       "1 1              17               5                  171  \n",
       "2 1              15               1                 9254  \n",
       "3 1               1               5                 9070  \n",
       "4 1              17               2                 9773  \n",
       "5 2              39               1                 8014  \n",
       "6 2              39               1                 9991  \n",
       "  Daytime/evening attendance Previous_qualification\n",
       "1 1                           1                    \n",
       "2 1                           1                    \n",
       "3 1                           1                    \n",
       "4 1                           1                    \n",
       "5 0                           1                    \n",
       "6 0                          19                    \n",
       "  Previous_qualification_grade Nacionality Mother_qualification\n",
       "1 122.0                        1           19                  \n",
       "2 160.0                        1            1                  \n",
       "3 122.0                        1           37                  \n",
       "4 122.0                        1           38                  \n",
       "5 100.0                        1           37                  \n",
       "6 133.1                        1           37                  \n",
       "  Father_qualification ⋯ Curricular_units_2nd_sem_(credited)\n",
       "1 12                   ⋯ 0                                  \n",
       "2  3                   ⋯ 0                                  \n",
       "3 37                   ⋯ 0                                  \n",
       "4 37                   ⋯ 0                                  \n",
       "5 38                   ⋯ 0                                  \n",
       "6 37                   ⋯ 0                                  \n",
       "  Curricular_units_2nd_sem_(enrolled) Curricular_units_2nd_sem_(evaluations)\n",
       "1 0                                    0                                    \n",
       "2 6                                    6                                    \n",
       "3 6                                    0                                    \n",
       "4 6                                   10                                    \n",
       "5 6                                    6                                    \n",
       "6 5                                   17                                    \n",
       "  Curricular_units_2nd_sem_(approved) Curricular_units_2nd_sem_(grade)\n",
       "1 0                                    0.00000                        \n",
       "2 6                                   13.66667                        \n",
       "3 0                                    0.00000                        \n",
       "4 5                                   12.40000                        \n",
       "5 6                                   13.00000                        \n",
       "6 5                                   11.50000                        \n",
       "  Curricular_units_2nd_sem_(without evaluations) Unemployment_rate\n",
       "1 0                                              10.8             \n",
       "2 0                                              13.9             \n",
       "3 0                                              10.8             \n",
       "4 0                                               9.4             \n",
       "5 0                                              13.9             \n",
       "6 5                                              16.2             \n",
       "  Inflation_rate GDP   Target  \n",
       "1  1.4            1.74 Dropout \n",
       "2 -0.3            0.79 Graduate\n",
       "3  1.4            1.74 Dropout \n",
       "4 -0.8           -3.12 Graduate\n",
       "5 -0.3            0.79 Graduate\n",
       "6  0.3           -0.92 Graduate"
      ]
     },
     "metadata": {},
     "output_type": "display_data"
    }
   ],
   "source": [
    "data <- read_delim(file = \"data/data.csv\", delim = \";\") #Load the data into R. File is semi-colon separated so use read_delim function\n",
    "head(data)"
   ]
  },
  {
   "cell_type": "code",
   "execution_count": 3,
   "id": "4769e8d7-9cb2-4cab-864a-7f93677de898",
   "metadata": {},
   "outputs": [
    {
     "data": {
      "text/html": [
       "<table class=\"dataframe\">\n",
       "<caption>A tibble: 6 × 4</caption>\n",
       "<thead>\n",
       "\t<tr><th scope=col>Previous_qualification</th><th scope=col>Previous_qualification_grade</th><th scope=col>Admission_grade</th><th scope=col>Target</th></tr>\n",
       "\t<tr><th scope=col>&lt;dbl&gt;</th><th scope=col>&lt;dbl&gt;</th><th scope=col>&lt;dbl&gt;</th><th scope=col>&lt;fct&gt;</th></tr>\n",
       "</thead>\n",
       "<tbody>\n",
       "\t<tr><td>1</td><td>122</td><td>127.3</td><td>Dropout </td></tr>\n",
       "\t<tr><td>1</td><td>160</td><td>142.5</td><td>Graduate</td></tr>\n",
       "\t<tr><td>1</td><td>122</td><td>124.8</td><td>Dropout </td></tr>\n",
       "\t<tr><td>1</td><td>122</td><td>119.6</td><td>Graduate</td></tr>\n",
       "\t<tr><td>1</td><td>100</td><td>141.5</td><td>Graduate</td></tr>\n",
       "\t<tr><td>1</td><td>142</td><td>128.4</td><td>Graduate</td></tr>\n",
       "</tbody>\n",
       "</table>\n"
      ],
      "text/latex": [
       "A tibble: 6 × 4\n",
       "\\begin{tabular}{llll}\n",
       " Previous\\_qualification & Previous\\_qualification\\_grade & Admission\\_grade & Target\\\\\n",
       " <dbl> & <dbl> & <dbl> & <fct>\\\\\n",
       "\\hline\n",
       "\t 1 & 122 & 127.3 & Dropout \\\\\n",
       "\t 1 & 160 & 142.5 & Graduate\\\\\n",
       "\t 1 & 122 & 124.8 & Dropout \\\\\n",
       "\t 1 & 122 & 119.6 & Graduate\\\\\n",
       "\t 1 & 100 & 141.5 & Graduate\\\\\n",
       "\t 1 & 142 & 128.4 & Graduate\\\\\n",
       "\\end{tabular}\n"
      ],
      "text/markdown": [
       "\n",
       "A tibble: 6 × 4\n",
       "\n",
       "| Previous_qualification &lt;dbl&gt; | Previous_qualification_grade &lt;dbl&gt; | Admission_grade &lt;dbl&gt; | Target &lt;fct&gt; |\n",
       "|---|---|---|---|\n",
       "| 1 | 122 | 127.3 | Dropout  |\n",
       "| 1 | 160 | 142.5 | Graduate |\n",
       "| 1 | 122 | 124.8 | Dropout  |\n",
       "| 1 | 122 | 119.6 | Graduate |\n",
       "| 1 | 100 | 141.5 | Graduate |\n",
       "| 1 | 142 | 128.4 | Graduate |\n",
       "\n"
      ],
      "text/plain": [
       "  Previous_qualification Previous_qualification_grade Admission_grade Target  \n",
       "1 1                      122                          127.3           Dropout \n",
       "2 1                      160                          142.5           Graduate\n",
       "3 1                      122                          124.8           Dropout \n",
       "4 1                      122                          119.6           Graduate\n",
       "5 1                      100                          141.5           Graduate\n",
       "6 1                      142                          128.4           Graduate"
      ]
     },
     "metadata": {},
     "output_type": "display_data"
    },
    {
     "data": {
      "text/html": [
       "3019"
      ],
      "text/latex": [
       "3019"
      ],
      "text/markdown": [
       "3019"
      ],
      "text/plain": [
       "[1] 3019"
      ]
     },
     "metadata": {},
     "output_type": "display_data"
    }
   ],
   "source": [
    "tidy_data <- data|>\n",
    "select(Previous_qualification, Previous_qualification_grade, Admission_grade, Target) |> # select our columns of interest\n",
    "filter(Previous_qualification == 1) |> #We only want to examine observations whose previous education is completed secondary education\n",
    "filter(Target == \"Graduate\" | Target == \"Dropout\") |> #We only want to examine the binary of dropout vs graduate (not students currently enrolled)\n",
    "mutate(Target = as_factor(Target)) #We want our classification variable to be a factor as there's a limited amount of categories\n",
    "head(tidy_data)\n",
    "nrow(tidy_data) #Check we still have a sufficient amount of observations that meet our criteria"
   ]
  },
  {
   "cell_type": "code",
   "execution_count": 4,
   "id": "48278c4d-2bfc-4cdb-963a-a06247999fcc",
   "metadata": {},
   "outputs": [],
   "source": [
    "#Split the data into training and testing. 75% for training and 25% for testing.\n",
    "# Because we are classifying target, use that as strata\n",
    "# Set seed so analysis is reproducible\n",
    "set.seed(2004)\n",
    "\n",
    "data_split <- initial_split(tidy_data, prop = 0.75, strata = Target) \n",
    "dropout_training <- training(data_split) #name training and testing data sets\n",
    "dropout_testing <- testing(data_split)"
   ]
  },
  {
   "cell_type": "code",
   "execution_count": 8,
   "id": "d623207e-6b26-4929-9d45-1a2357fd09b6",
   "metadata": {},
   "outputs": [
    {
     "ename": "ERROR",
     "evalue": "Error in step_upsample(recipe(Target ~ Previous_qualification_grade + : could not find function \"step_upsample\"\n",
     "output_type": "error",
     "traceback": [
      "Error in step_upsample(recipe(Target ~ Previous_qualification_grade + : could not find function \"step_upsample\"\nTraceback:\n"
     ]
    }
   ],
   "source": [
    "set.seed(2000)\n",
    "\n",
    "# Create Recipe\n",
    "dropout_recipe <- recipe(Target ~ Previous_qualification_grade + Admission_grade, data = dropout_training) |>\n",
    "step_upsample(Target, over_ratio = 1, skip = FALSE) |>\n",
    "step_scale(allpredictors()) |>\n",
    "step_center(allpredictors())\n",
    "prep()\n",
    "\n",
    "#Specify folds for cross validation\n",
    "dropout_vfold <- vfold_cv(dropout_training, v = 8, strata = Target)\n",
    "\n",
    "#Specify K-values to try\n",
    "gridvals <- tibble(\"neighbors\" = seq(from = 1, to = 10, by = 1))\n",
    "\n",
    "#Add specification\n",
    "dropout_spec <- nearest_neighbor(weight_func = \"rectangular\", neighbors = tune()) |>\n",
    "set_engine(\"kknn\") |>\n",
    "set_mode(\"classification\")\n",
    "\n",
    "dropout_workflow <- workflow() |>\n",
    "add_recipe(dropout_recipe) |>\n",
    "add_model(dropout_spec) |>\n",
    "tune_grid(resamples = dropout_vfold, grid = gridvals) |>\n",
    "collect_metrics() |>\n",
    "filter(.metric == \"accuracy\")\n",
    "\n",
    "dropout_workflow\n",
    "\n",
    "cross_val_plot <- dropout_workflow |>\n",
    "ggplot(aes(x = neighbors, y = mean)) + \n",
    "geom_point() +\n",
    "geom_line() + \n",
    "xlab(\"Number of Neighbors\") + \n",
    "ylab(\"Accuracy\") +\n",
    "ggtitle(\"K vs Accuracy\")\n",
    "\n",
    "cross_val_plot"
   ]
  },
  {
   "cell_type": "code",
   "execution_count": null,
   "id": "144bf231-75b0-46bb-a815-11ff86591493",
   "metadata": {},
   "outputs": [],
   "source": [
    "cross_val_plot <- dropout_workflow |>\n",
    "ggplot(aes(x = neighbors, y = mean)) + \n",
    "geom_point() +\n",
    "geom_line() + \n",
    "xlab(\"Number of Neighbors\") + \n",
    "ylab(\"Accuracy\") +\n",
    "ggtitle(\"K vs Accuracy\")\n",
    "\n",
    "cross_val_plot"
   ]
  }
 ],
 "metadata": {
  "kernelspec": {
   "display_name": "R",
   "language": "R",
   "name": "ir"
  },
  "language_info": {
   "codemirror_mode": "r",
   "file_extension": ".r",
   "mimetype": "text/x-r-source",
   "name": "R",
   "pygments_lexer": "r",
   "version": "4.3.1"
  }
 },
 "nbformat": 4,
 "nbformat_minor": 5
}
